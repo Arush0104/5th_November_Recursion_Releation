{
 "cells": [
  {
   "cell_type": "code",
   "execution_count": null,
   "metadata": {},
   "outputs": [],
   "source": [
    "print(\"\"\"\n",
    "Question 1\n",
    "A: 105\n",
    "      \"\"\")\n"
   ]
  },
  {
   "cell_type": "code",
   "execution_count": 1,
   "metadata": {},
   "outputs": [
    {
     "name": "stdout",
     "output_type": "stream",
     "text": [
      "\n",
      "Question 2(With Substitution)\n",
      "Q: T(n) = T(n-1) + c\n",
      "A: O(n)\n",
      "      \n"
     ]
    }
   ],
   "source": [
    "print(\"\"\"\n",
    "Question 2(With Substitution)\n",
    "Q: T(n) = T(n-1) + c\n",
    "A: O(n)\n",
    "      \"\"\")\n"
   ]
  },
  {
   "cell_type": "code",
   "execution_count": 3,
   "metadata": {},
   "outputs": [
    {
     "name": "stdout",
     "output_type": "stream",
     "text": [
      "\n",
      "Question 3(With Substitution)\n",
      "Q: T(n) = 2T(n/2) + n\n",
      "A: O(nlogn)\n",
      "      \n"
     ]
    }
   ],
   "source": [
    "print(\"\"\"\n",
    "Question 3(With Substitution)\n",
    "Q: T(n) = 2T(n/2) + n\n",
    "A: O(nlogn)\n",
    "      \"\"\")"
   ]
  },
  {
   "cell_type": "code",
   "execution_count": 2,
   "metadata": {},
   "outputs": [
    {
     "name": "stdout",
     "output_type": "stream",
     "text": [
      "\n",
      "Question 2(With Substitution)\n",
      "Q: T(n) = T(n) = 2T(n/2) + n\n",
      "A: O(n)\n",
      "      \n"
     ]
    }
   ],
   "source": [
    "print(\"\"\"\n",
    "Question 4(With Substitution)\n",
    "Q: T(n) = T(n) = 2T(n/2) + n\n",
    "A: O(n)\n",
    "      \"\"\")"
   ]
  },
  {
   "cell_type": "code",
   "execution_count": 4,
   "metadata": {},
   "outputs": [
    {
     "name": "stdout",
     "output_type": "stream",
     "text": [
      "\n",
      "Question 5(With Substitution)\n",
      "Q: T(n) = T(n) = 2T(n/2) + n\n",
      "A:  O(nlogn).\n",
      "      \n"
     ]
    }
   ],
   "source": [
    "print(\"\"\"\n",
    "Question 5(With Substitution)\n",
    "Q: T(n) = T(n) = 2T(n/2) + n\n",
    "A:  O(nlogn).\n",
    "      \"\"\")"
   ]
  },
  {
   "cell_type": "code",
   "execution_count": 6,
   "metadata": {},
   "outputs": [
    {
     "name": "stdout",
     "output_type": "stream",
     "text": [
      "\n",
      "Question 6(With Trees)\n",
      "Q: T(n) = 2T(n-1) +1\n",
      "A: O(2^n)\n",
      "      \n"
     ]
    }
   ],
   "source": [
    "print(\"\"\"\n",
    "Question 6(With Trees)\n",
    "Q: T(n) = 2T(n-1) +1\n",
    "A: O(2^n)\n",
    "      \"\"\")"
   ]
  },
  {
   "cell_type": "code",
   "execution_count": 7,
   "metadata": {},
   "outputs": [
    {
     "name": "stdout",
     "output_type": "stream",
     "text": [
      "\n",
      "Question 7(With Trees)\n",
      "Q: T(n) = 2T(n/2) + n\n",
      "A: O(2^n)\n",
      "      \n"
     ]
    }
   ],
   "source": [
    "print(\"\"\"\n",
    "Question 7(With Trees)\n",
    "Q: T(n) = 2T(n/2) + n\n",
    "A: O(2^n)\n",
    "      \"\"\")"
   ]
  },
  {
   "cell_type": "code",
   "execution_count": null,
   "metadata": {},
   "outputs": [],
   "source": []
  }
 ],
 "metadata": {
  "kernelspec": {
   "display_name": "Python 3 (ipykernel)",
   "language": "python",
   "name": "python3"
  },
  "language_info": {
   "codemirror_mode": {
    "name": "ipython",
    "version": 3
   },
   "file_extension": ".py",
   "mimetype": "text/x-python",
   "name": "python",
   "nbconvert_exporter": "python",
   "pygments_lexer": "ipython3",
   "version": "3.12.2"
  }
 },
 "nbformat": 4,
 "nbformat_minor": 4
}
